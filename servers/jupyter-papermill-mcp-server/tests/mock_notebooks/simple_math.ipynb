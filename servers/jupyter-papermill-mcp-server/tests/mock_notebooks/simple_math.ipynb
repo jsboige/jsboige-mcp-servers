﻿{
  "nbformat": 4,
  "nbformat_minor": 5,
  "metadata": {
    "kernelspec": {
      "display_name": "Python 3",
      "language": "python",
      "name": "python3"
    },
    "language_info": {
      "name": "python",
      "version": "3.8.0"
    }
  },
  "cells": [
    {
      "cell_type": "markdown",
      "metadata": {},
      "source": [
        "# Simple Math Notebook\n",
        "\n",
        "Ce notebook teste des calculs mathématiques simples (< 5s)."
      ]
    },
    {
      "cell_type": "code",
      "execution_count": null,
      "metadata": {},
      "outputs": [],
      "source": [
        "# Calculs basiques\n",
        "a = 10\n",
        "b = 20\n",
        "result = a + b\n",
        "print(f\"Résultat: {a} + {b} = {result}\")"
      ]
    },
    {
      "cell_type": "code",
      "execution_count": null,
      "metadata": {},
      "outputs": [],
      "source": [
        "# Operations avec listes\n",
        "numbers = [1, 2, 3, 4, 5]\n",
        "total = sum(numbers)\n",
        "average = total / len(numbers)\n",
        "print(f\"Total: {total}, Moyenne: {average}\")"
      ]
    },
    {
      "cell_type": "code",
      "execution_count": null,
      "metadata": {},
      "outputs": [],
      "source": [
        "# Test de boucle simple\n",
        "for i in range(5):\n",
        "    print(f\"Compteur: {i}\")\n",
        "\n",
        "print(\"Notebook simple terminé avec succès!\")"
      ]
    }
  ]
}
