﻿{
  "nbformat": 4,
  "nbformat_minor": 5,
  "metadata": {
    "kernelspec": {
      "display_name": "Python 3",
      "language": "python",
      "name": "python3"
    },
    "language_info": {
      "name": "python",
      "version": "3.8.0"
    }
  },
  "cells": [
    {
      "cell_type": "markdown",
      "metadata": {},
      "source": [
        "# Medium Data Processing Notebook\n",
        "\n",
        "Ce notebook simule du traitement de données moyennement complexe (5-30s)."
      ]
    },
    {
      "cell_type": "code",
      "execution_count": null,
      "metadata": {},
      "outputs": [],
      "source": [
        "# Mock imports lourds (pandas, numpy)\n",
        "import time\n",
        "import random\n",
        "\n",
        "print(\"Chargement des librairies de données...\")\n",
        "time.sleep(1)  # Simule import pandas/numpy\n",
        "print(\"Pandas et NumPy chargés\")"
      ]
    },
    {
      "cell_type": "code",
      "execution_count": null,
      "metadata": {},
      "outputs": [],
      "source": [
        "# Simulation création dataset\n",
        "print(\"Création du dataset...\")\n",
        "data = []\n",
        "for i in range(10000):\n",
        "    data.append({\n",
        "        'id': i,\n",
        "        'value': random.random() * 100,\n",
        "        'category': random.choice(['A', 'B', 'C'])\n",
        "    })\n",
        "\n",
        "print(f\"Dataset créé avec {len(data)} enregistrements\")"
      ]
    },
    {
      "cell_type": "code",
      "execution_count": null,
      "metadata": {},
      "outputs": [],
      "source": [
        "# Simulation opérations I/O\n",
        "print(\"Opérations de traitement des données...\")\n",
        "\n",
        "# Simulation groupby et agregations\n",
        "categories = {}\n",
        "for item in data:\n",
        "    cat = item['category']\n",
        "    if cat not in categories:\n",
        "        categories[cat] = []\n",
        "    categories[cat].append(item['value'])\n",
        "\n",
        "# Calcul statistiques\n",
        "results = {}\n",
        "for cat, values in categories.items():\n",
        "    results[cat] = {\n",
        "        'count': len(values),\n",
        "        'mean': sum(values) / len(values),\n",
        "        'min': min(values),\n",
        "        'max': max(values)\n",
        "    }\n",
        "\n",
        "print(\"Résultats par catégorie:\")\n",
        "for cat, stats in results.items():\n",
        "    print(f\"{cat}: {stats}\")"
      ]
    },
    {
      "cell_type": "code",
      "execution_count": null,
      "metadata": {},
      "outputs": [],
      "source": [
        "# Simulation sauvegarde\n",
        "print(\"Sauvegarde des résultats...\")\n",
        "time.sleep(2)  # Simule opération I/O\n",
        "print(\"Notebook de traitement de données terminé avec succès!\")"
      ]
    }
  ]
}
