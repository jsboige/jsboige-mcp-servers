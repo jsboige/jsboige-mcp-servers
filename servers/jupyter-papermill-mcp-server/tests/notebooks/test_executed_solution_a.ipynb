{
 "cells": [
  {
   "cell_type": "code",
   "execution_count": 1,
   "id": "e862ddf4",
   "metadata": {
    "execution": {
     "iopub.execute_input": "2025-09-21T18:02:35.743446Z",
     "iopub.status.busy": "2025-09-21T18:02:35.743446Z",
     "iopub.status.idle": "2025-09-21T18:02:35.746684Z",
     "shell.execute_reply": "2025-09-21T18:02:35.746684Z"
    },
    "papermill": {
     "duration": 0.006749,
     "end_time": "2025-09-21T18:02:35.747688",
     "exception": false,
     "start_time": "2025-09-21T18:02:35.740939",
     "status": "completed"
    },
    "tags": []
   },
   "outputs": [
    {
     "name": "stdout",
     "output_type": "stream",
     "text": [
      "Parameters: test_param=default_value, number_param=42\n"
     ]
    }
   ],
   "source": [
    "# Parameters\n",
    "test_param = \"default_value\"\n",
    "number_param = 42\n",
    "print(f\"Parameters: test_param={test_param}, number_param={number_param}\")"
   ]
  }
 ],
 "metadata": {
  "kernelspec": {
   "display_name": "python3",
   "language": "python",
   "name": "python3"
  },
  "language_info": {
   "codemirror_mode": {
    "name": "ipython",
    "version": 3
   },
   "file_extension": ".py",
   "mimetype": "text/x-python",
   "name": "python",
   "nbconvert_exporter": "python",
   "pygments_lexer": "ipython3",
   "version": "3.12.11"
  },
  "papermill": {
   "default_parameters": {},
   "duration": 4.075875,
   "end_time": "2025-09-21T18:02:38.532338",
   "environment_variables": {},
   "exception": null,
   "input_path": "test_parameterization.ipynb",
   "output_path": "test_executed_solution_a.ipynb",
   "parameters": {},
   "start_time": "2025-09-21T18:02:34.456463",
   "version": "2.6.0"
  }
 },
 "nbformat": 4,
 "nbformat_minor": 5
}