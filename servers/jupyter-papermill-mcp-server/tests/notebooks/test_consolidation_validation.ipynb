{
  "cells": [
    {
      "cell_type": "code",
      "metadata": {},
      "source": [
        "# Parameters cell\n",
        "name = \"default\"\n",
        "count = 1\n",
        "print(f\"Hello {name}, count: {count}\")"
      ],
      "execution_count": null,
      "outputs": []
    }
  ],
  "metadata": {
    "kernelspec": {
      "display_name": "python3",
      "language": "python",
      "name": "python3"
    },
    "language_info": {
      "name": "python"
    }
  },
  "nbformat": 4,
  "nbformat_minor": 4
}