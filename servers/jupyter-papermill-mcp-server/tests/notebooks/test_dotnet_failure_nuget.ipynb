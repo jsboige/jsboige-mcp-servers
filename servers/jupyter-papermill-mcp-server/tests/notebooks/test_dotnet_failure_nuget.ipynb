{
  "cells": [
    {
      "cell_type": "code",
      "execution_count": null,
      "metadata": {},
      "outputs": [],
      "source": [
        "#r \"nuget:Newtonsoft.Json\"\n",
        "using Newtonsoft.Json;\n",
        "Console.WriteLine(\"Testing NuGet package load\");"
      ]
    }
  ],
  "metadata": {
    "kernelspec": {
      "display_name": ".NET (C#)",
      "language": "C#",
      "name": ".net-csharp"
    },
    "language_info": {
      "name": "C#"
    }
  },
  "nbformat": 4,
  "nbformat_minor": 4
}