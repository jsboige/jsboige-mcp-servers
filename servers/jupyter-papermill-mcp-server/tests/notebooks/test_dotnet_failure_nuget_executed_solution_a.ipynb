{
 "cells": [
  {
   "cell_type": "markdown",
   "id": "4002e3cc",
   "metadata": {
    "tags": [
     "papermill-error-cell-tag"
    ]
   },
   "source": [
    "<span style=\"color:red; font-family:Helvetica Neue, Helvetica, Arial, sans-serif; font-size:2em;\">An Exception was encountered at '<a href=\"#papermill-error-cell\">In [1]</a>'.</span>"
   ]
  },
  {
   "cell_type": "markdown",
   "id": "ae1e67f8",
   "metadata": {
    "tags": [
     "papermill-error-cell-tag"
    ]
   },
   "source": [
    "<span id=\"papermill-error-cell\" style=\"color:red; font-family:Helvetica Neue, Helvetica, Arial, sans-serif; font-size:2em;\">Execution using papermill encountered an exception here and stopped:</span>"
   ]
  },
  {
   "cell_type": "code",
   "execution_count": 1,
   "id": "493e8efb",
   "metadata": {
    "execution": {
     "iopub.execute_input": "2025-09-15T09:12:36.832782Z",
     "iopub.status.busy": "2025-09-15T09:12:36.827761Z",
     "iopub.status.idle": "2025-09-15T09:12:38.642244Z",
     "shell.execute_reply": "2025-09-15T09:12:38.637286Z"
    },
    "papermill": {
     "duration": 1.820253,
     "end_time": "2025-09-15T09:12:38.642938",
     "exception": true,
     "start_time": "2025-09-15T09:12:36.822685",
     "status": "failed"
    },
    "tags": []
   },
   "outputs": [
    {
     "data": {
      "text/html": [
       "\r\n",
       "<div>\r\n",
       "    <div id='dotnet-interactive-this-cell-$CACHE_BUSTER$' style='display: none'>\r\n",
       "        The below script needs to be able to find the current output cell; this is an easy method to get it.\r\n",
       "    </div>\r\n",
       "    <script type='text/javascript'>\r\n",
       "async function probeAddresses(probingAddresses) {\r\n",
       "    function timeout(ms, promise) {\r\n",
       "        return new Promise(function (resolve, reject) {\r\n",
       "            setTimeout(function () {\r\n",
       "                reject(new Error('timeout'))\r\n",
       "            }, ms)\r\n",
       "            promise.then(resolve, reject)\r\n",
       "        })\r\n",
       "    }\r\n",
       "\r\n",
       "    if (Array.isArray(probingAddresses)) {\r\n",
       "        for (let i = 0; i < probingAddresses.length; i++) {\r\n",
       "\r\n",
       "            let rootUrl = probingAddresses[i];\r\n",
       "\r\n",
       "            if (!rootUrl.endsWith('/')) {\r\n",
       "                rootUrl = `${rootUrl}/`;\r\n",
       "            }\r\n",
       "\r\n",
       "            try {\r\n",
       "                let response = await timeout(1000, fetch(`${rootUrl}discovery`, {\r\n",
       "                    method: 'POST',\r\n",
       "                    cache: 'no-cache',\r\n",
       "                    mode: 'cors',\r\n",
       "                    timeout: 1000,\r\n",
       "                    headers: {\r\n",
       "                        'Content-Type': 'text/plain'\r\n",
       "                    },\r\n",
       "                    body: probingAddresses[i]\r\n",
       "                }));\r\n",
       "\r\n",
       "                if (response.status == 200) {\r\n",
       "                    return rootUrl;\r\n",
       "                }\r\n",
       "            }\r\n",
       "            catch (e) { }\r\n",
       "        }\r\n",
       "    }\r\n",
       "}\r\n",
       "\r\n",
       "function loadDotnetInteractiveApi() {\r\n",
       "    probeAddresses([\"http://2a01:cb09:d072:43d5:d565:1597:b52e:1b78:2048/\",\"http://2a01:cb09:d072:43d5:6028:19ac:c40:684f:2048/\",\"http://2a01:cb16:d:4870:4cfd:cbb4:7afc:b4fe:2048/\",\"http://2a01:cb16:d:4870:5ce2:e956:e463:8417:2048/\",\"http://fe80::a193:c145:4ac6:ff63%2:2048/\",\"http://10.71.207.85:2048/\",\"http://::1:2048/\",\"http://127.0.0.1:2048/\",\"http://fe80::5b:57b4:454a:da24%35:2048/\",\"http://172.28.128.1:2048/\",\"http://fe80::320f:5fba:3716:8de3%52:2048/\",\"http://172.28.160.1:2048/\"])\r\n",
       "        .then((root) => {\r\n",
       "        // use probing to find host url and api resources\r\n",
       "        // load interactive helpers and language services\r\n",
       "        let dotnetInteractiveRequire = require.config({\r\n",
       "        context: '66740.Microsoft.DotNet.Interactive.Http.HttpPort',\r\n",
       "                paths:\r\n",
       "            {\r\n",
       "                'dotnet-interactive': `${root}resources`\r\n",
       "                }\r\n",
       "        }) || require;\r\n",
       "\r\n",
       "            window.dotnetInteractiveRequire = dotnetInteractiveRequire;\r\n",
       "\r\n",
       "            window.configureRequireFromExtension = function(extensionName, extensionCacheBuster) {\r\n",
       "                let paths = {};\r\n",
       "                paths[extensionName] = `${root}extensions/${extensionName}/resources/`;\r\n",
       "                \r\n",
       "                let internalRequire = require.config({\r\n",
       "                    context: extensionCacheBuster,\r\n",
       "                    paths: paths,\r\n",
       "                    urlArgs: `cacheBuster=${extensionCacheBuster}`\r\n",
       "                    }) || require;\r\n",
       "\r\n",
       "                return internalRequire\r\n",
       "            };\r\n",
       "        \r\n",
       "            dotnetInteractiveRequire([\r\n",
       "                    'dotnet-interactive/dotnet-interactive'\r\n",
       "                ],\r\n",
       "                function (dotnet) {\r\n",
       "                    dotnet.init(window);\r\n",
       "                },\r\n",
       "                function (error) {\r\n",
       "                    console.log(error);\r\n",
       "                }\r\n",
       "            );\r\n",
       "        })\r\n",
       "        .catch(error => {console.log(error);});\r\n",
       "    }\r\n",
       "\r\n",
       "// ensure `require` is available globally\r\n",
       "if ((typeof(require) !==  typeof(Function)) || (typeof(require.config) !== typeof(Function))) {\r\n",
       "    let require_script = document.createElement('script');\r\n",
       "    require_script.setAttribute('src', 'https://cdnjs.cloudflare.com/ajax/libs/require.js/2.3.6/require.min.js');\r\n",
       "    require_script.setAttribute('type', 'text/javascript');\r\n",
       "    \r\n",
       "    \r\n",
       "    require_script.onload = function() {\r\n",
       "        loadDotnetInteractiveApi();\r\n",
       "    };\r\n",
       "\r\n",
       "    document.getElementsByTagName('head')[0].appendChild(require_script);\r\n",
       "}\r\n",
       "else {\r\n",
       "    loadDotnetInteractiveApi();\r\n",
       "}\r\n",
       "\r\n",
       "    </script>\r\n",
       "</div>"
      ]
     },
     "metadata": {},
     "output_type": "display_data"
    },
    {
     "data": {
      "text/html": [
       "<div><div></div><div></div><div></div></div>"
      ]
     },
     "metadata": {},
     "output_type": "display_data"
    },
    {
     "ename": "Error",
     "evalue": "C:\\Program Files\\dotnet\\sdk\\9.0.305\\NuGet.targets(789,5): error : Value cannot be null. (Parameter 'path1') [C:\\Users\\jsboi\\.packagemanagement\\nuget\\Projects\\66740--a1029155-0675-4b97-aebe-6bbe9002cc7c\\Project.fsproj]",
     "output_type": "error",
     "traceback": [
      "C:\\Program Files\\dotnet\\sdk\\9.0.305\\NuGet.targets(789,5): error : Value cannot be null. (Parameter 'path1') [C:\\Users\\jsboi\\.packagemanagement\\nuget\\Projects\\66740--a1029155-0675-4b97-aebe-6bbe9002cc7c\\Project.fsproj]"
     ]
    }
   ],
   "source": [
    "#r \"nuget:Newtonsoft.Json\"\n",
    "using Newtonsoft.Json;\n",
    "Console.WriteLine(\"Testing NuGet package load\");"
   ]
  }
 ],
 "metadata": {
  "kernelspec": {
   "display_name": ".NET (C#)",
   "language": "C#",
   "name": ".net-csharp"
  },
  "language_info": {
   "file_extension": ".cs",
   "mimetype": "text/x-csharp",
   "name": "C#",
   "pygments_lexer": "csharp",
   "version": "13.0"
  },
  "papermill": {
   "default_parameters": {},
   "duration": 4.218172,
   "end_time": "2025-09-15T09:12:38.795225",
   "environment_variables": {},
   "exception": true,
   "input_path": "D:/dev/roo-extensions/mcps/internal/servers/jupyter-papermill-mcp-server/tests/notebooks/test_dotnet_failure_nuget.ipynb",
   "output_path": "D:/dev/roo-extensions/mcps/internal/servers/jupyter-papermill-mcp-server/tests/notebooks/test_dotnet_failure_nuget_executed_solution_a.ipynb",
   "parameters": {},
   "start_time": "2025-09-15T09:12:34.577053",
   "version": "2.6.0"
  }
 },
 "nbformat": 4,
 "nbformat_minor": 5
}