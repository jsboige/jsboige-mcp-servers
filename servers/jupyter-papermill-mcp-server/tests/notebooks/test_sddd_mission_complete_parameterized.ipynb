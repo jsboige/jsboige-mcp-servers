{
 "cells": [
  {
   "cell_type": "code",
   "execution_count": 1,
   "id": "7bb75f71",
   "metadata": {
    "execution": {
     "iopub.execute_input": "2025-09-23T20:10:24.232715Z",
     "iopub.status.busy": "2025-09-23T20:10:24.232198Z",
     "iopub.status.idle": "2025-09-23T20:10:24.235297Z",
     "shell.execute_reply": "2025-09-23T20:10:24.235297Z"
    },
    "papermill": {
     "duration": 0.004678,
     "end_time": "2025-09-23T20:10:24.235819",
     "exception": false,
     "start_time": "2025-09-23T20:10:24.231141",
     "status": "completed"
    },
    "tags": [
     "injected-parameters"
    ]
   },
   "outputs": [],
   "source": [
    "# Parameters\n",
    "test_param = \"valeur_json\"\n",
    "number = 123\n"
   ]
  },
  {
   "cell_type": "code",
   "execution_count": 2,
   "id": "6a7c3f6f",
   "metadata": {
    "execution": {
     "iopub.execute_input": "2025-09-23T20:10:24.240009Z",
     "iopub.status.busy": "2025-09-23T20:10:24.240009Z",
     "iopub.status.idle": "2025-09-23T20:10:24.243170Z",
     "shell.execute_reply": "2025-09-23T20:10:24.242625Z"
    },
    "papermill": {
     "duration": 0.005265,
     "end_time": "2025-09-23T20:10:24.243699",
     "exception": false,
     "start_time": "2025-09-23T20:10:24.238434",
     "status": "completed"
    },
    "tags": []
   },
   "outputs": [
    {
     "name": "stdout",
     "output_type": "stream",
     "text": [
      "Finalisation 11/11 outils réussie!\n"
     ]
    }
   ],
   "source": [
    "# TEST SDDD MISSION\n",
    "print('Finalisation 11/11 outils réussie!')"
   ]
  }
 ],
 "metadata": {
  "kernelspec": {
   "display_name": "python3",
   "language": "python",
   "name": "python3"
  },
  "language_info": {
   "codemirror_mode": {
    "name": "ipython",
    "version": 3
   },
   "file_extension": ".py",
   "mimetype": "text/x-python",
   "name": "python",
   "nbconvert_exporter": "python",
   "pygments_lexer": "ipython3",
   "version": "3.12.11"
  },
  "papermill": {
   "default_parameters": {},
   "duration": 4.073327,
   "end_time": "2025-09-23T20:10:27.024873",
   "environment_variables": {},
   "exception": null,
   "input_path": "test_sddd_mission_complete.ipynb",
   "output_path": "test_sddd_mission_complete_parameterized.ipynb",
   "parameters": {
    "number": 123,
    "test_param": "valeur_json"
   },
   "start_time": "2025-09-23T20:10:22.951546",
   "version": "2.6.0"
  }
 },
 "nbformat": 4,
 "nbformat_minor": 5
}