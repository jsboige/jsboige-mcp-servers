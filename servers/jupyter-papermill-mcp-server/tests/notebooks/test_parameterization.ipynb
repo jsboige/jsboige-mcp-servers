{
  "cells": [
    {
      "cell_type": "code",
      "metadata": {},
      "source": [
        "# Parameters\n",
        "test_param = \"default_value\"\n",
        "number_param = 42\n",
        "print(f\"Parameters: test_param={test_param}, number_param={number_param}\")"
      ],
      "execution_count": null,
      "outputs": []
    }
  ],
  "metadata": {
    "kernelspec": {
      "display_name": "python3",
      "language": "python",
      "name": "python3"
    },
    "language_info": {
      "name": "python"
    }
  },
  "nbformat": 4,
  "nbformat_minor": 4
}