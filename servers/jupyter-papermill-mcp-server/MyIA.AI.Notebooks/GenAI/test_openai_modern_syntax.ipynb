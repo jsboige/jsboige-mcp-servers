{
  "cells": [
    {
      "cell_type": "markdown",
      "metadata": {},
      "source": [
        "# Test OpenAI API Moderne (v1+)\n",
        "\n",
        "Ce notebook teste la syntaxe OpenAI moderne pour septembre 2025.\n",
        "\n",
        "## Changements principaux :\n",
        "- `from openai import OpenAI` au lieu de `import openai`\n",
        "- `client = OpenAI()` au lieu de `openai.api_key = ...`\n",
        "- `client.chat.completions.create()` au lieu de `openai.chat.completions.create()`"
      ]
    },
    {
      "cell_type": "code",
      "metadata": {},
      "source": [
        "# Installation des packages n\u00e9cessaires\n",
        "%pip install openai tiktoken python-dotenv\n",
        "\n",
        "# Imports avec syntaxe moderne\n",
        "import os\n",
        "from openai import OpenAI\n",
        "from dotenv import load_dotenv\n",
        "\n",
        "# Charger la configuration depuis le fichier .env\n",
        "load_dotenv()\n",
        "\n",
        "# Initialiser le client OpenAI (d\u00e9tecte automatiquement OPENAI_API_KEY)\n",
        "client = OpenAI()\n",
        "\n",
        "print(\"Client OpenAI initialis\u00e9 avec succ\u00e8s (syntaxe moderne) !\")"
      ],
      "execution_count": null,
      "outputs": []
    },
    {
      "cell_type": "code",
      "metadata": {},
      "source": [
        "# Test API moderne avec un prompt simple\n",
        "response = client.chat.completions.create(\n",
        "    messages=[\n",
        "        {\n",
        "            \"role\": \"user\",\n",
        "            \"content\": \"Dis bonjour en fran\u00e7ais de fa\u00e7on polie\"\n",
        "        }\n",
        "    ],\n",
        "    model=\"gpt-4o-mini\",\n",
        "    max_tokens=50,\n",
        "    temperature=0\n",
        ")\n",
        "\n",
        "print(\"Test API moderne - R\u00e9ponse du mod\u00e8le :\")\n",
        "print(response.choices[0].message.content)"
      ],
      "execution_count": null,
      "outputs": []
    }
  ],
  "metadata": {
    "kernelspec": {
      "display_name": "python3",
      "language": "python",
      "name": "python3"
    },
    "language_info": {
      "name": "python"
    }
  },
  "nbformat": 4,
  "nbformat_minor": 4
}