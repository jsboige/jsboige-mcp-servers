{
  "cells": [
    {
      "cell_type": "code",
      "metadata": {},
      "source": [
        "# Test avec param\u00e8tres Papermill\n",
        "import datetime\n",
        "print(f\"Test ex\u00e9cut\u00e9 \u00e0: {datetime.datetime.now()}\")\n",
        "print(f\"Param\u00e8tre de test: {globals().get('test_param', 'non d\u00e9fini')}\")"
      ],
      "execution_count": null,
      "outputs": []
    }
  ],
  "metadata": {
    "kernelspec": {
      "display_name": "python3",
      "language": "python",
      "name": "python3"
    },
    "language_info": {
      "name": "python"
    }
  },
  "nbformat": 4,
  "nbformat_minor": 4
}