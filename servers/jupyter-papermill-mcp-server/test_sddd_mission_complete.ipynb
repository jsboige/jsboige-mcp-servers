{
  "cells": [
    {
      "cell_type": "code",
      "metadata": {},
      "source": [
        "# TEST SDDD MISSION\n",
        "print('Finalisation 11/11 outils r\u00e9ussie!')"
      ],
      "execution_count": null,
      "outputs": []
    }
  ],
  "metadata": {
    "kernelspec": {
      "display_name": "python3",
      "language": "python",
      "name": "python3"
    },
    "language_info": {
      "name": "python"
    }
  },
  "nbformat": 4,
  "nbformat_minor": 4
}